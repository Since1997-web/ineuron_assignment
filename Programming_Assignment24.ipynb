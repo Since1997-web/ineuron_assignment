{
 "cells": [
  {
   "cell_type": "markdown",
   "id": "607bbf8a",
   "metadata": {},
   "source": [
    "Question1\n",
    "Create a function that takes an integer and returns a list from 1 to the given number, where:\n",
    "1. If the number can be divided evenly by 4, amplify it by 10 (i.e. return 10 times the\n",
    "number).\n",
    "2. If the number cannot be divided evenly by 4, simply return the number."
   ]
  },
  {
   "cell_type": "code",
   "execution_count": 9,
   "id": "1b638dff",
   "metadata": {},
   "outputs": [],
   "source": [
    "def amplify(num):\n",
    "    amplified = [num*10 if num%4==0 else num for num in range(1,num+1)]\n",
    "    return amplified"
   ]
  },
  {
   "cell_type": "code",
   "execution_count": 10,
   "id": "3b2f5069",
   "metadata": {},
   "outputs": [
    {
     "data": {
      "text/plain": [
       "[1, 2, 3, 40]"
      ]
     },
     "execution_count": 10,
     "metadata": {},
     "output_type": "execute_result"
    }
   ],
   "source": [
    "amplify(4)"
   ]
  },
  {
   "cell_type": "markdown",
   "id": "dbae8a89",
   "metadata": {},
   "source": [
    "Question2\n",
    "Create a function that takes a list of numbers and return the number that's unique."
   ]
  },
  {
   "cell_type": "code",
   "execution_count": 19,
   "id": "d65de52b",
   "metadata": {},
   "outputs": [],
   "source": [
    "def unique(number_list):\n",
    "    number_list.sort()\n",
    "    if number_list[0]!=number_list[1]:\n",
    "        output = number_list[0]\n",
    "    else:\n",
    "        output = number_list[len(number_list)-1]\n",
    "    return output"
   ]
  },
  {
   "cell_type": "code",
   "execution_count": 20,
   "id": "2ddd4919",
   "metadata": {},
   "outputs": [
    {
     "data": {
      "text/plain": [
       "4"
      ]
     },
     "execution_count": 20,
     "metadata": {},
     "output_type": "execute_result"
    }
   ],
   "source": [
    "unique([3,4,3,3,3,3,3,3])"
   ]
  },
  {
   "cell_type": "code",
   "execution_count": 21,
   "id": "1701aac5",
   "metadata": {},
   "outputs": [
    {
     "data": {
      "text/plain": [
       "0.77"
      ]
     },
     "execution_count": 21,
     "metadata": {},
     "output_type": "execute_result"
    }
   ],
   "source": [
    "unique([0,0,0,0.77,0,0,])"
   ]
  },
  {
   "cell_type": "markdown",
   "id": "64dc0914",
   "metadata": {},
   "source": [
    "Question3\n",
    "Your task is to create a Circle constructor that creates a circle with a radius provided by an\n",
    "argument. The circles constructed must have two getters getArea() (PIr^2) and\n",
    "getPerimeter() (2PI*r) which give both respective areas and perimeter (circumference)."
   ]
  },
  {
   "cell_type": "code",
   "execution_count": 60,
   "id": "e882140e",
   "metadata": {},
   "outputs": [],
   "source": [
    "import math\n",
    "class circle():\n",
    "    def __init__(self,radius):\n",
    "        self.radius = radius\n",
    "    def getArea(self):\n",
    "        area = ((math.pi)*self.radius*self.radius)\n",
    "        return round(area)\n",
    "    def getPerimeter(self):\n",
    "        perimeter = (2*(math.pi)*self.radius)\n",
    "        return round(perimeter)\n"
   ]
  },
  {
   "cell_type": "code",
   "execution_count": 61,
   "id": "f68536a1",
   "metadata": {},
   "outputs": [],
   "source": [
    "obj = circle(4.44)"
   ]
  },
  {
   "cell_type": "code",
   "execution_count": 62,
   "id": "75b48f8c",
   "metadata": {},
   "outputs": [
    {
     "data": {
      "text/plain": [
       "62"
      ]
     },
     "execution_count": 62,
     "metadata": {},
     "output_type": "execute_result"
    }
   ],
   "source": [
    "obj.getArea()"
   ]
  },
  {
   "cell_type": "code",
   "execution_count": 63,
   "id": "d8a437ab",
   "metadata": {},
   "outputs": [
    {
     "data": {
      "text/plain": [
       "28"
      ]
     },
     "execution_count": 63,
     "metadata": {},
     "output_type": "execute_result"
    }
   ],
   "source": [
    "obj.getPerimeter()"
   ]
  },
  {
   "cell_type": "markdown",
   "id": "8af7f9df",
   "metadata": {},
   "source": [
    "Question4\n",
    "Create a function that takes a list of strings and return a list, sorted from shortest to longest."
   ]
  },
  {
   "cell_type": "code",
   "execution_count": 29,
   "id": "179bb492",
   "metadata": {},
   "outputs": [],
   "source": [
    "def sort_by_length(list_of_strings):\n",
    "    empty=[]\n",
    "    for i in list_of_strings:\n",
    "        empty.append(len(i))\n",
    "    empty.sort()\n",
    "    required_list =[]\n",
    "    for j in empty:\n",
    "        for k in list_of_strings:\n",
    "            if j == len(k):\n",
    "                required_list.append(k)\n",
    "            else:\n",
    "                pass\n",
    "    return required_list     "
   ]
  },
  {
   "cell_type": "code",
   "execution_count": 30,
   "id": "e04dc0a0",
   "metadata": {},
   "outputs": [
    {
     "data": {
      "text/plain": [
       "['apple', 'banana', 'badhews']"
      ]
     },
     "execution_count": 30,
     "metadata": {},
     "output_type": "execute_result"
    }
   ],
   "source": [
    "sort_by_length(['apple', 'badhews', 'banana'])"
   ]
  },
  {
   "cell_type": "code",
   "execution_count": 31,
   "id": "ac5c6bcb",
   "metadata": {},
   "outputs": [
    {
     "data": {
      "text/plain": [
       "['Raphael', 'Leonardo', 'Donatello', 'Michelangelo']"
      ]
     },
     "execution_count": 31,
     "metadata": {},
     "output_type": "execute_result"
    }
   ],
   "source": [
    "sort_by_length([\"Leonardo\", \"Michelangelo\", \"Raphael\", \"Donatello\"])"
   ]
  },
  {
   "cell_type": "markdown",
   "id": "8602ce36",
   "metadata": {},
   "source": [
    "Question5\n",
    "Create a function that validates whether three given integers form a Pythagorean triplet. The\n",
    "sum of the squares of the two smallest integers must equal the square of the largest number to\n",
    "be validated."
   ]
  },
  {
   "cell_type": "code",
   "execution_count": 58,
   "id": "90784b07",
   "metadata": {},
   "outputs": [],
   "source": [
    "def is_triplet(a,b,c):\n",
    "    list_of_integers = [a,b,c]\n",
    "    list_of_integers.sort()\n",
    "    x = list_of_integers[0]\n",
    "    y = list_of_integers[1]\n",
    "    z = list_of_integers[2]\n",
    "    if (pow(x,2)+pow(y,2))==pow(z,2):\n",
    "        output = True\n",
    "    else:\n",
    "        output = False\n",
    "    return print(output)"
   ]
  },
  {
   "cell_type": "code",
   "execution_count": 59,
   "id": "7d56aa18",
   "metadata": {},
   "outputs": [
    {
     "name": "stdout",
     "output_type": "stream",
     "text": [
      "True\n"
     ]
    }
   ],
   "source": [
    "is_triplet(13,5,12)"
   ]
  },
  {
   "cell_type": "code",
   "execution_count": null,
   "id": "a24b8f2e",
   "metadata": {},
   "outputs": [],
   "source": []
  }
 ],
 "metadata": {
  "kernelspec": {
   "display_name": "Python 3 (ipykernel)",
   "language": "python",
   "name": "python3"
  },
  "language_info": {
   "codemirror_mode": {
    "name": "ipython",
    "version": 3
   },
   "file_extension": ".py",
   "mimetype": "text/x-python",
   "name": "python",
   "nbconvert_exporter": "python",
   "pygments_lexer": "ipython3",
   "version": "3.9.12"
  }
 },
 "nbformat": 4,
 "nbformat_minor": 5
}
