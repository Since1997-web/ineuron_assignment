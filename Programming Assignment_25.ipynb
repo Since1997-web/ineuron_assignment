{
 "cells": [
  {
   "cell_type": "markdown",
   "id": "a7c8d170",
   "metadata": {},
   "source": [
    "Question1\n",
    "Create a function that takes three integer arguments (a, b, c) and returns the amount of\n",
    "integers which are of equal value."
   ]
  },
  {
   "cell_type": "code",
   "execution_count": 17,
   "id": "3a5af195",
   "metadata": {},
   "outputs": [],
   "source": [
    "def equal(a,b,c):\n",
    "    if a==b==c:\n",
    "        count = 3\n",
    "    elif a==b!=c or a!=b==c or a==c!=b:\n",
    "        count = 2\n",
    "    elif a!=b!=c:\n",
    "        count = 0\n",
    "    return count\n",
    "        "
   ]
  },
  {
   "cell_type": "code",
   "execution_count": 20,
   "id": "092e2781",
   "metadata": {},
   "outputs": [
    {
     "data": {
      "text/plain": [
       "3"
      ]
     },
     "execution_count": 20,
     "metadata": {},
     "output_type": "execute_result"
    }
   ],
   "source": [
    "equal(1,1,1)"
   ]
  },
  {
   "cell_type": "code",
   "execution_count": 24,
   "id": "14cbd4fb",
   "metadata": {},
   "outputs": [
    {
     "data": {
      "text/plain": [
       "2"
      ]
     },
     "execution_count": 24,
     "metadata": {},
     "output_type": "execute_result"
    }
   ],
   "source": [
    "equal(3,2,2)"
   ]
  },
  {
   "cell_type": "code",
   "execution_count": 25,
   "id": "d78a489e",
   "metadata": {},
   "outputs": [
    {
     "data": {
      "text/plain": [
       "(1, 3, 5)"
      ]
     },
     "execution_count": 25,
     "metadata": {},
     "output_type": "execute_result"
    }
   ],
   "source": [
    "l = [1,3,5]\n",
    "x=tuple(l)\n",
    "x"
   ]
  },
  {
   "cell_type": "markdown",
   "id": "a43f546e",
   "metadata": {},
   "source": [
    "Question2\n",
    "Write a function that converts a dictionary into a list of keys-values tuples."
   ]
  },
  {
   "cell_type": "code",
   "execution_count": 97,
   "id": "b5db3696",
   "metadata": {},
   "outputs": [],
   "source": [
    "def dict_to_list(temp_dict):\n",
    "    x = temp_dict.values()\n",
    "    y = temp_dict.keys()\n",
    "    list_keys =[]\n",
    "    for i in y:\n",
    "        list_keys.append(i)\n",
    "    list_keys.sort()\n",
    "    required_list = []\n",
    "    i = 0\n",
    "    while i < len(temp_dict):\n",
    "        required_list.append((list_keys[i],temp_dict[list_keys[i]]))\n",
    "        i = i+1\n",
    "    return required_list"
   ]
  },
  {
   "cell_type": "code",
   "execution_count": 98,
   "id": "674d3a40",
   "metadata": {},
   "outputs": [
    {
     "data": {
      "text/plain": [
       "[('B', 2), ('C', 3), ('D', 1)]"
      ]
     },
     "execution_count": 98,
     "metadata": {},
     "output_type": "execute_result"
    }
   ],
   "source": [
    "dict_to_list({\"D\":1,\"B\":2,\"C\":3})"
   ]
  },
  {
   "cell_type": "code",
   "execution_count": 101,
   "id": "4d283bd8",
   "metadata": {},
   "outputs": [
    {
     "data": {
      "text/plain": [
       "[('dislikes', 3), ('followers', 10), ('likes', 2)]"
      ]
     },
     "execution_count": 101,
     "metadata": {},
     "output_type": "execute_result"
    }
   ],
   "source": [
    "dict_to_list({\"likes\":2,\"dislikes\":3,\"followers\":10})"
   ]
  },
  {
   "cell_type": "markdown",
   "id": "2ad3a3b2",
   "metadata": {},
   "source": [
    "Question3\n",
    "Write a function that creates a dictionary with each (key, value) pair being the (lower case,\n",
    "upper case) versions of a letter, respectively."
   ]
  },
  {
   "cell_type": "code",
   "execution_count": 109,
   "id": "531e8b1b",
   "metadata": {},
   "outputs": [],
   "source": [
    "def mapping(entered_list):\n",
    "    final_dic = {}\n",
    "    for i in range(len(entered_list)):\n",
    "        final_dic.update({entered_list[i]:entered_list[i].upper()})\n",
    "    return final_dic"
   ]
  },
  {
   "cell_type": "code",
   "execution_count": 110,
   "id": "939e60c3",
   "metadata": {},
   "outputs": [
    {
     "data": {
      "text/plain": [
       "{'a': 'A', 'b': 'B'}"
      ]
     },
     "execution_count": 110,
     "metadata": {},
     "output_type": "execute_result"
    }
   ],
   "source": [
    "mapping([\"a\",\"b\"])"
   ]
  },
  {
   "cell_type": "markdown",
   "id": "d69afcaf",
   "metadata": {},
   "source": [
    "Question4\n",
    "Write a function, that replaces all vowels in a string with a specified vowel."
   ]
  },
  {
   "cell_type": "code",
   "execution_count": 155,
   "id": "791fca86",
   "metadata": {},
   "outputs": [],
   "source": [
    "def vow_replace(st,vow):\n",
    "    list_string = list(st)\n",
    "    vowel_string = \"aeiou\"\n",
    "    required_string = \"\"\n",
    "    for i in range(len(list_string)):\n",
    "        if list_string[i] in vowel_string:\n",
    "            list_string[i]= vow\n",
    "    return required_string.join(list_string)"
   ]
  },
  {
   "cell_type": "code",
   "execution_count": 156,
   "id": "4137d1fb",
   "metadata": {},
   "outputs": [
    {
     "data": {
      "text/plain": [
       "'hdlld wdrld'"
      ]
     },
     "execution_count": 156,
     "metadata": {},
     "output_type": "execute_result"
    }
   ],
   "source": [
    "vow_replace(\"hello world\",\"d\")"
   ]
  },
  {
   "cell_type": "markdown",
   "id": "57467b53",
   "metadata": {},
   "source": [
    "Question5\n",
    "Create a function that takes a string as input and capitalizes a letter if its ASCII code is even\n",
    "and returns its lower case version if its ASCII code is odd."
   ]
  },
  {
   "cell_type": "code",
   "execution_count": 176,
   "id": "a6d429d9",
   "metadata": {},
   "outputs": [],
   "source": [
    "def ascii_capitalize(st):\n",
    "    list_string = list(st)\n",
    "    required_string = \"\"\n",
    "    for i in range(len(list_string)):\n",
    "        if (ord(list_string[i])%2) == 0:\n",
    "            list_string[i]=list_string[i].capitalize()\n",
    "        else:\n",
    "            list_string[i]=list_string[i].lower()\n",
    "    return required_string.join(list_string)"
   ]
  },
  {
   "cell_type": "code",
   "execution_count": 178,
   "id": "97cbbf32",
   "metadata": {},
   "outputs": [
    {
     "data": {
      "text/plain": [
       "'To Be oR NoT To Be!'"
      ]
     },
     "execution_count": 178,
     "metadata": {},
     "output_type": "execute_result"
    }
   ],
   "source": [
    "ascii_capitalize(\"to be or not to be!\")"
   ]
  },
  {
   "cell_type": "code",
   "execution_count": 180,
   "id": "4821c277",
   "metadata": {},
   "outputs": [
    {
     "data": {
      "text/plain": [
       "'THe LiTTLe meRmaiD'"
      ]
     },
     "execution_count": 180,
     "metadata": {},
     "output_type": "execute_result"
    }
   ],
   "source": [
    "ascii_capitalize(\"THE LITTLE MERMAID\")"
   ]
  },
  {
   "cell_type": "code",
   "execution_count": null,
   "id": "2b46b1c6",
   "metadata": {},
   "outputs": [],
   "source": []
  }
 ],
 "metadata": {
  "kernelspec": {
   "display_name": "Python 3 (ipykernel)",
   "language": "python",
   "name": "python3"
  },
  "language_info": {
   "codemirror_mode": {
    "name": "ipython",
    "version": 3
   },
   "file_extension": ".py",
   "mimetype": "text/x-python",
   "name": "python",
   "nbconvert_exporter": "python",
   "pygments_lexer": "ipython3",
   "version": "3.9.12"
  }
 },
 "nbformat": 4,
 "nbformat_minor": 5
}
